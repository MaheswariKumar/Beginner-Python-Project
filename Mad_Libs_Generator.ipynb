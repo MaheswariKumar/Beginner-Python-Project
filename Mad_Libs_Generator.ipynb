{
  "nbformat": 4,
  "nbformat_minor": 0,
  "metadata": {
    "colab": {
      "name": "Mad Libs Generator.ipynb",
      "provenance": [],
      "authorship_tag": "ABX9TyO1CKcnViGW8wYJyRF6WB5o",
      "include_colab_link": true
    },
    "kernelspec": {
      "name": "python3",
      "display_name": "Python 3"
    }
  },
  "cells": [
    {
      "cell_type": "markdown",
      "metadata": {
        "id": "view-in-github",
        "colab_type": "text"
      },
      "source": [
        "<a href=\"https://colab.research.google.com/github/MaheswariKumar/Beginner-Python-Project/blob/main/Mad_Libs_Generator.ipynb\" target=\"_parent\"><img src=\"https://colab.research.google.com/assets/colab-badge.svg\" alt=\"Open In Colab\"/></a>"
      ]
    },
    {
      "cell_type": "code",
      "metadata": {
        "colab": {
          "base_uri": "https://localhost:8080/"
        },
        "id": "d7VKEYKH4Cxh",
        "outputId": "ec03b529-d8bf-4880-8b18-27ec9f7ab84b"
      },
      "source": [
        "\"\"\" Mad Libs Generator\r\n",
        "----------------------------------------\r\n",
        "\"\"\"\r\n",
        "#Loop back to this point once code finishes\r\n",
        "loop = 1\r\n",
        "while (loop < 2):\r\n",
        "# All the questions that the program asks the user\r\n",
        "    noun = input(\"Choose a noun: \")\r\n",
        "    p_noun = input(\"Choose a plural noun: \")\r\n",
        "    noun2 = input(\"Choose a noun: \")\r\n",
        "    place = input(\"Name a place: \")\r\n",
        "    adjective = input(\"Choose an adjective (Describing word): \")\r\n",
        "    noun3 = input(\"Choose a noun: \")\r\n",
        "# Displays the story based on the users input\r\n",
        "    print (\"------------------------------------------\")\r\n",
        "    print (\"Be kind to your\",noun,\"- footed\", p_noun)\r\n",
        "    print (\"For a duck may be somebody's\", noun2,\",\")\r\n",
        "    print (\"Be kind to your\",p_noun,\"in\",place)\r\n",
        "    print (\"Where the weather is always\",adjective,\".\")\r\n",
        "    print ()\r\n",
        "    print (\"You may think that is this the\",noun3,\",\")\r\n",
        "    print (\"Well it is.\")\r\n",
        "    print (\"------------------------------------------\")\r\n",
        "# Loop back to \"loop = 1\"\r\n",
        "    loop = loop + 1"
      ],
      "execution_count": 1,
      "outputs": [
        {
          "output_type": "stream",
          "text": [
            "Choose a noun: Cat\n",
            "Choose a plural noun: Cats\n",
            "Choose a noun: duck\n",
            "Name a place: home\n",
            "Choose an adjective (Describing word): Cool\n",
            "Choose a noun: words\n",
            "------------------------------------------\n",
            "Be kind to your Cat - footed Cats\n",
            "For a duck may be somebody's duck ,\n",
            "Be kind to your Cats in home\n",
            "Where the weather is always Cool .\n",
            "\n",
            "You may think that is this the words ,\n",
            "Well it is.\n",
            "------------------------------------------\n"
          ],
          "name": "stdout"
        }
      ]
    },
    {
      "cell_type": "code",
      "metadata": {
        "id": "Qj0LWyv84L9_"
      },
      "source": [
        ""
      ],
      "execution_count": null,
      "outputs": []
    }
  ]
}